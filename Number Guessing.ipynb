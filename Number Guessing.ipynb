{
  "nbformat": 4,
  "nbformat_minor": 0,
  "metadata": {
    "colab": {
      "provenance": [],
      "authorship_tag": "ABX9TyMUu4ST3HvHxXxBDQ0GIndg",
      "include_colab_link": true
    },
    "kernelspec": {
      "name": "python3",
      "display_name": "Python 3"
    },
    "language_info": {
      "name": "python"
    }
  },
  "cells": [
    {
      "cell_type": "markdown",
      "metadata": {
        "id": "view-in-github",
        "colab_type": "text"
      },
      "source": [
        "<a href=\"https://colab.research.google.com/github/kaveri7671/Basic-Project/blob/main/Number%20Guessing.ipynb\" target=\"_parent\"><img src=\"https://colab.research.google.com/assets/colab-badge.svg\" alt=\"Open In Colab\"/></a>"
      ]
    },
    {
      "cell_type": "code",
      "execution_count": 2,
      "metadata": {
        "colab": {
          "base_uri": "https://localhost:8080/"
        },
        "id": "CijmLnBLVJYF",
        "outputId": "193374e8-b9bd-43a4-cdfc-69f46f446066"
      },
      "outputs": [
        {
          "output_type": "stream",
          "name": "stdout",
          "text": [
            "Welcome to the Number Guessing Game!\n",
            "I'll pick a number between 1 and 100, and you'll have to guess it.\n",
            "Take a guess: 45\n",
            "Too low!\n",
            "Take a guess: 56\n",
            "Too high!\n",
            "Take a guess: 78\n",
            "Too high!\n",
            "Take a guess: 45\n",
            "Too low!\n",
            "Take a guess: 50\n",
            "Too low!\n",
            "Take a guess: 56\n",
            "Too high!\n",
            "Take a guess: 55\n",
            "Too high!\n",
            "Take a guess: 54\n",
            "Congratulations! You've guessed the number!\n",
            "It took you 8 attempts to guess the number.\n",
            "Do you want to play again? (yes/no): yes\n",
            "Welcome to the Number Guessing Game!\n",
            "I'll pick a number between 1 and 100, and you'll have to guess it.\n",
            "Take a guess: 56\n",
            "Too low!\n",
            "Take a guess: 100\n",
            "Too high!\n",
            "Take a guess: 56\n",
            "Too low!\n",
            "Take a guess: 80\n",
            "Too low!\n",
            "Take a guess: 90\n",
            "Congratulations! You've guessed the number!\n",
            "It took you 5 attempts to guess the number.\n",
            "Do you want to play again? (yes/no): no\n",
            "Thanks for playing!\n"
          ]
        }
      ],
      "source": [
        "import random\n",
        "import time\n",
        "\n",
        "def intro():\n",
        "    print(\"Welcome to the Number Guessing Game!\")\n",
        "    print(\"I'll pick a number between 1 and 100, and you'll have to guess it.\")\n",
        "    time.sleep(0.5)\n",
        "\n",
        "def pick_number():\n",
        "    return random.randint(1, 100)\n",
        "\n",
        "def take_guess():\n",
        "    while True:\n",
        "        guess = input(\"Take a guess: \")\n",
        "        if guess.isdigit():\n",
        "            return int(guess)\n",
        "        else:\n",
        "            print(\"Please enter a valid number.\")\n",
        "\n",
        "def evaluate_guess(guess, number):\n",
        "    if guess < number:\n",
        "        print(\"Too low!\")\n",
        "        return False\n",
        "    elif guess > number:\n",
        "        print(\"Too high!\")\n",
        "        return False\n",
        "    else:\n",
        "        print(\"Congratulations! You've guessed the number!\")\n",
        "        return True\n",
        "\n",
        "def play_game():\n",
        "    intro()\n",
        "    number = pick_number()\n",
        "    attempts = 0\n",
        "\n",
        "    while True:\n",
        "        guess = take_guess()\n",
        "        attempts += 1\n",
        "\n",
        "        if evaluate_guess(guess, number):\n",
        "            break\n",
        "\n",
        "    print(\"It took you\", attempts, \"attempts to guess the number.\")\n",
        "\n",
        "def main():\n",
        "    play_again = \"yes\"\n",
        "    while play_again.lower() in [\"yes\", \"y\"]:\n",
        "        play_game()\n",
        "        play_again = input(\"Do you want to play again? (yes/no): \")\n",
        "\n",
        "    print(\"Thanks for playing!\")\n",
        "\n",
        "if __name__ == \"__main__\":\n",
        "    main()\n",
        "\n"
      ]
    }
  ]
}