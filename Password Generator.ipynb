{
  "nbformat": 4,
  "nbformat_minor": 0,
  "metadata": {
    "colab": {
      "provenance": [],
      "authorship_tag": "ABX9TyMr0oKf+3W+JM3n57T/hRGf",
      "include_colab_link": true
    },
    "kernelspec": {
      "name": "python3",
      "display_name": "Python 3"
    },
    "language_info": {
      "name": "python"
    }
  },
  "cells": [
    {
      "cell_type": "markdown",
      "metadata": {
        "id": "view-in-github",
        "colab_type": "text"
      },
      "source": [
        "<a href=\"https://colab.research.google.com/github/kaveri7671/Basic-Project/blob/main/Password%20Generator.ipynb\" target=\"_parent\"><img src=\"https://colab.research.google.com/assets/colab-badge.svg\" alt=\"Open In Colab\"/></a>"
      ]
    },
    {
      "cell_type": "code",
      "execution_count": null,
      "metadata": {
        "colab": {
          "base_uri": "https://localhost:8080/"
        },
        "id": "CijmLnBLVJYF",
        "outputId": "2f65832c-30f7-4a3d-e3be-5ead68eec765"
      },
      "outputs": [
        {
          "output_type": "stream",
          "name": "stdout",
          "text": [
            "How many passwords do you want to generate? 10\n",
            "Enter the minimum length of passwords: 6\n",
            "Password 1: oI4$fYJP}\n",
            "Password 2: (>*2i1?F\"\n",
            "Password 3: <6YI^q\n",
            "Password 4: WIs67!\n",
            "Password 5: \\qgy4U\\\n",
            "Password 6: K/E!gY~B6\n",
            "Password 7: tkdD#)z3}@A\n",
            "Password 8: M1fbU(^L\n",
            "Password 9: U=u2(u\n",
            "Password 10: m|D:<1s\n"
          ]
        }
      ],
      "source": [
        "\n",
        "import random\n",
        "import string\n",
        "\n",
        "def generate_password(length=12):\n",
        "    \"\"\"Generate a strong and secure password.\"\"\"\n",
        "    lowercase_letters = string.ascii_lowercase\n",
        "    uppercase_letters = string.ascii_uppercase\n",
        "    digits = string.digits\n",
        "    special_characters = string.punctuation\n",
        "\n",
        "    # Combine all character sets\n",
        "    all_characters = lowercase_letters + uppercase_letters + digits + special_characters\n",
        "\n",
        "    # Ensure at least one character from each set\n",
        "    password = random.choice(lowercase_letters)\n",
        "    password += random.choice(uppercase_letters)\n",
        "    password += random.choice(digits)\n",
        "    password += random.choice(special_characters)\n",
        "\n",
        "    # Generate remaining characters\n",
        "    for _ in range(length - 4):\n",
        "        password += random.choice(all_characters)\n",
        "\n",
        "    # Shuffle the password to increase randomness\n",
        "    password_list = list(password)\n",
        "    random.shuffle(password_list)\n",
        "    password = ''.join(password_list)\n",
        "\n",
        "    return password\n",
        "\n",
        "def generate_multiple_passwords(num_passwords, min_length=12):\n",
        "    \"\"\"Generate multiple strong and secure passwords.\"\"\"\n",
        "    passwords = []\n",
        "    for _ in range(num_passwords):\n",
        "        length = random.randint(min_length, min_length + 5)  # Randomize length slightly\n",
        "        password = generate_password(length)\n",
        "        passwords.append(password)\n",
        "    return passwords\n",
        "\n",
        "if __name__ == \"__main__\":\n",
        "    num_passwords = int(input(\"How many passwords do you want to generate? \"))\n",
        "    min_length = int(input(\"Enter the minimum length of passwords: \"))\n",
        "    passwords = generate_multiple_passwords(num_passwords, min_length)\n",
        "\n",
        "    # Output the passwords\n",
        "    for i, password in enumerate(passwords, start=1):\n",
        "        print(f\"Password {i}: {password}\")"
      ]
    }
  ]
}